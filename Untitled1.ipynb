{
  "nbformat": 4,
  "nbformat_minor": 0,
  "metadata": {
    "colab": {
      "provenance": [],
      "include_colab_link": true
    },
    "kernelspec": {
      "name": "python3",
      "display_name": "Python 3"
    },
    "language_info": {
      "name": "python"
    }
  },
  "cells": [
    {
      "cell_type": "markdown",
      "metadata": {
        "id": "view-in-github",
        "colab_type": "text"
      },
      "source": [
        "<a href=\"https://colab.research.google.com/github/fadwaMeh/GutMetagenomeOfTheNunavikYouth/blob/main/Untitled1.ipynb\" target=\"_parent\"><img src=\"https://colab.research.google.com/assets/colab-badge.svg\" alt=\"Open In Colab\"/></a>"
      ]
    },
    {
      "cell_type": "markdown",
      "source": [
        "TRAVAIL PRATIQUE 3: VERSION 2 / TACHE 3"
      ],
      "metadata": {
        "id": "_9DmNmjw4ZG2"
      }
    },
    {
      "cell_type": "code",
      "source": [
        "\n",
        "# You need the dev version since we need a not-release feature as of January 28, 2022.\n",
        "# Will remove comments when the feature is released.\n",
        "%pip install --upgrade git+https://github.com/GRAAL-Research/poutyne.git@dev #install poutyne\n",
        "%pip install --upgrade colorama #install colorama\n",
        "%pip install --upgrade fasttext #install fasttext\n",
        "%matplotlib inline\n",
        "\n",
        "import contextlib\n",
        "import os\n",
        "import pickle\n",
        "import re\n",
        "import sys\n",
        "from io import TextIOBase"
      ],
      "metadata": {
        "colab": {
          "base_uri": "https://localhost:8080/"
        },
        "id": "iJycTFQbzwwH",
        "outputId": "30c59d7b-a19c-4916-a438-5ff4901de3e6"
      },
      "execution_count": null,
      "outputs": [
        {
          "output_type": "stream",
          "name": "stdout",
          "text": [
            "Looking in indexes: https://pypi.org/simple, https://us-python.pkg.dev/colab-wheels/public/simple/\n",
            "Collecting git+https://github.com/GRAAL-Research/poutyne.git@dev\n",
            "  Cloning https://github.com/GRAAL-Research/poutyne.git (to revision dev) to /tmp/pip-req-build-ogoz3z3j\n",
            "  Running command git clone -q https://github.com/GRAAL-Research/poutyne.git /tmp/pip-req-build-ogoz3z3j\n",
            "  Running command git checkout -b dev --track origin/dev\n",
            "  Switched to a new branch 'dev'\n",
            "  Branch 'dev' set up to track remote branch 'dev' from 'origin'.\n",
            "  Installing build dependencies ... \u001b[?25l\u001b[?25hdone\n",
            "  Getting requirements to build wheel ... \u001b[?25l\u001b[?25hdone\n",
            "    Preparing wheel metadata ... \u001b[?25l\u001b[?25hdone\n",
            "Requirement already satisfied: numpy in /usr/local/lib/python3.8/dist-packages (from Poutyne==1.15.dev1+f1dafd0) (1.21.6)\n",
            "Requirement already satisfied: torch in /usr/local/lib/python3.8/dist-packages (from Poutyne==1.15.dev1+f1dafd0) (1.12.1+cu113)\n",
            "Collecting torchmetrics\n",
            "  Downloading torchmetrics-0.11.0-py3-none-any.whl (512 kB)\n",
            "\u001b[K     |████████████████████████████████| 512 kB 18.9 MB/s \n",
            "\u001b[?25hRequirement already satisfied: typing-extensions in /usr/local/lib/python3.8/dist-packages (from torch->Poutyne==1.15.dev1+f1dafd0) (4.1.1)\n",
            "Requirement already satisfied: packaging in /usr/local/lib/python3.8/dist-packages (from torchmetrics->Poutyne==1.15.dev1+f1dafd0) (21.3)\n",
            "Requirement already satisfied: pyparsing!=3.0.5,>=2.0.2 in /usr/local/lib/python3.8/dist-packages (from packaging->torchmetrics->Poutyne==1.15.dev1+f1dafd0) (3.0.9)\n",
            "Building wheels for collected packages: Poutyne\n",
            "  Building wheel for Poutyne (PEP 517) ... \u001b[?25l\u001b[?25hdone\n",
            "  Created wheel for Poutyne: filename=Poutyne-1.15.dev1+f1dafd0-py3-none-any.whl size=210718 sha256=ec23d4070a623bdf8ca553be3f6e80c629598350d6918d3e62908c684b36be35\n",
            "  Stored in directory: /tmp/pip-ephem-wheel-cache-in4pm4dd/wheels/4e/43/4e/8a4a7bb4a20ab24dad50bb43fa60fda0579dc5b45d902d765d\n",
            "Successfully built Poutyne\n",
            "Installing collected packages: torchmetrics, Poutyne\n",
            "Successfully installed Poutyne-1.15.dev1+f1dafd0 torchmetrics-0.11.0\n",
            "Looking in indexes: https://pypi.org/simple, https://us-python.pkg.dev/colab-wheels/public/simple/\n",
            "Collecting colorama\n",
            "  Downloading colorama-0.4.6-py2.py3-none-any.whl (25 kB)\n",
            "Installing collected packages: colorama\n",
            "Successfully installed colorama-0.4.6\n",
            "Looking in indexes: https://pypi.org/simple, https://us-python.pkg.dev/colab-wheels/public/simple/\n",
            "Collecting fasttext\n",
            "  Downloading fasttext-0.9.2.tar.gz (68 kB)\n",
            "\u001b[K     |████████████████████████████████| 68 kB 5.3 MB/s \n",
            "\u001b[?25hCollecting pybind11>=2.2\n",
            "  Using cached pybind11-2.10.1-py3-none-any.whl (216 kB)\n",
            "Requirement already satisfied: setuptools>=0.7.0 in /usr/local/lib/python3.8/dist-packages (from fasttext) (57.4.0)\n",
            "Requirement already satisfied: numpy in /usr/local/lib/python3.8/dist-packages (from fasttext) (1.21.6)\n",
            "Building wheels for collected packages: fasttext\n",
            "  Building wheel for fasttext (setup.py) ... \u001b[?25l\u001b[?25hdone\n",
            "  Created wheel for fasttext: filename=fasttext-0.9.2-cp38-cp38-linux_x86_64.whl size=3133759 sha256=6a0992695204ae57e86e6ccfd9469081427806ce58e47ed68b2b4a012ec3a0d9\n",
            "  Stored in directory: /root/.cache/pip/wheels/93/61/2a/c54711a91c418ba06ba195b1d78ff24fcaad8592f2a694ac94\n",
            "Successfully built fasttext\n",
            "Installing collected packages: pybind11, fasttext\n",
            "Successfully installed fasttext-0.9.2 pybind11-2.10.1\n"
          ]
        }
      ]
    },
    {
      "cell_type": "code",
      "execution_count": null,
      "metadata": {
        "id": "VpxEapqswJEO"
      },
      "outputs": [],
      "source": [
        "import requests\n",
        "def download_data(saving_dir, data_type):\n",
        "    \"\"\"\n",
        "    Function to download the dataset using data_type to specify if we want the train, valid or test.\n",
        "    \"\"\"\n",
        "\n",
        "    # hardcoded url to download the pickled dataset\n",
        "    root_url = \"https://dot-layer.github.io/blog-external-assets/train_rnn/{}.p\"\n",
        "\n",
        "    url = root_url.format(data_type)\n",
        "    r = requests.get(url)\n",
        "    os.makedirs(saving_dir, exist_ok=True)\n",
        "\n",
        "    open(os.path.join(saving_dir, f\"{data_type}.p\"), \"wb\").write(r.content)\n",
        "\n",
        "\n",
        "download_data(\"./data/\", \"train\")\n",
        "download_data(\"./data/\", \"valid\")\n",
        "download_data(\"./data/\", \"test\")"
      ]
    },
    {
      "cell_type": "code",
      "source": [],
      "metadata": {
        "id": "gFhp7VTpzsMP"
      },
      "execution_count": null,
      "outputs": []
    },
    {
      "cell_type": "code",
      "source": [
        "# load the data\n",
        "train_data_initial = pickle.load(open(\"./data/train.p\", \"rb\"))  # 728,789 examples\n",
        "valid_data_initial = pickle.load(open(\"./data/valid.p\", \"rb\"))  # 182,198 examples\n",
        "test_data_initial = pickle.load(open(\"./data/test.p\", \"rb\"))  # 100,000 examples\n",
        "\n"
      ],
      "metadata": {
        "id": "rZXMh64tznz3"
      },
      "execution_count": null,
      "outputs": []
    },
    {
      "cell_type": "code",
      "source": [
        "len_train_data_initial = len(train_data_initial)\n",
        "len_valid_data_initial = len(valid_data_initial)\n",
        "len_test_data_initial = len(test_data_initial)\n",
        "print(\"\\nlongueur de train_data :\", len_train_data_initial)\n",
        "print(\"\\nlongueur de valid_data :\", len_valid_data_initial)\n",
        "print(\"\\nlongueur de test_data :\", len_test_data_initial)"
      ],
      "metadata": {
        "colab": {
          "base_uri": "https://localhost:8080/"
        },
        "id": "Iqctw7ti1oul",
        "outputId": "753b1358-ca3d-43dd-de69-c4bccc620943"
      },
      "execution_count": null,
      "outputs": [
        {
          "output_type": "stream",
          "name": "stdout",
          "text": [
            "\n",
            "longueur de train_data : 728789\n",
            "\n",
            "longueur de valid_data : 182198\n",
            "\n",
            "longueur de test_data : 100000\n"
          ]
        }
      ]
    },
    {
      "cell_type": "markdown",
      "source": [
        "**À l'aide de cette fonction on construit les jeux de données utilisés pouur ce TP3**: \n",
        "taux représente le taux de reproduction et region peut être quebec ou ontario"
      ],
      "metadata": {
        "id": "jErnkxow4F9H"
      }
    },
    {
      "cell_type": "code",
      "source": [
        "import re\n",
        "import math\n",
        "\n",
        "def extractionData(taux, region):\n",
        "\n",
        "  numb_train = int(math.modf(len_train_data_initial * taux/100)[1])\n",
        "  numb_valid = int(math.modf(len_valid_data_initial * taux/100)[1])\n",
        "  numb_test = int(math.modf(len_test_data_initial * taux/100)[1])\n",
        "  print(\"\\nnumb_train : \",numb_train)\n",
        "  print(\"\\nnumb_valid : \",numb_valid)\n",
        "  print(\"\\nnumb_test : \",numb_test)\n",
        "\n",
        "  train_data = []\n",
        "  valid_data = []\n",
        "  test_data = []\n",
        "\n",
        "  for i in range(0,numb_train):\n",
        "    if re.search(region, train_data_initial[i][0]):\n",
        "      train_data.append(train_data_initial[i])\n",
        "\n",
        "  for j in range(0,numb_valid):\n",
        "    if re.search(region, valid_data_initial[j][0]):\n",
        "      valid_data.append(valid_data_initial[j])\n",
        "\n",
        "  for k in range(0,numb_test):\n",
        "    if re.search(str(region), test_data_initial[k][0]):\n",
        "      test_data.append(test_data_initial[k])\n",
        "\n",
        "  return train_data, valid_data, test_data\n",
        "\n",
        "train_data, valid_data, test_data = extractionData(30, 'ontario')\n",
        "\n",
        "print(\"\\nun exemple de train :\",train_data[:2], \n",
        "      \"\\nLa longueur de train est :\", len(train_data))\n",
        "print(\"\\nun exemple de valid :\",valid_data[:2], \n",
        "      \"\\nLa longueur de valid est :\", len(valid_data))\n",
        "print(\"\\nun exemple de test :\",test_data[:2], \n",
        "      \"\\nLa longueur de test est :\", len(test_data))\n",
        "\n",
        "\n",
        "\n"
      ],
      "metadata": {
        "colab": {
          "base_uri": "https://localhost:8080/"
        },
        "id": "5SWveT084XUj",
        "outputId": "d7edc422-3d0b-4e33-b579-bd293a268e25"
      },
      "execution_count": null,
      "outputs": [
        {
          "output_type": "stream",
          "name": "stdout",
          "text": [
            "\n",
            "numb_train :  218636\n",
            "\n",
            "numb_valid :  54659\n",
            "\n",
            "numb_test :  30000\n",
            "\n",
            "un exemple de train : [('16 white hart ln norwood ontario k0l 1y0', ['StreetNumber', 'StreetName', 'StreetName', 'StreetName', 'Municipality', 'Province', 'PostalCode', 'PostalCode']), ('283 neal drive flr # 5 apt 22 richmond hill ontario l4c 3l3', ['StreetNumber', 'StreetName', 'StreetName', 'Unit', 'Unit', 'Unit', 'Unit', 'Unit', 'Municipality', 'Municipality', 'Province', 'PostalCode', 'PostalCode'])] \n",
            "La longueur de train est : 8415\n",
            "\n",
            "un exemple de valid : [('lakeshore rd grafton ontario k0k 2g0', ['StreetName', 'StreetName', 'Municipality', 'Province', 'PostalCode', 'PostalCode']), ('249 glendonwynne road no r toronto ontario m6p 3g4', ['StreetNumber', 'StreetName', 'StreetName', 'Unit', 'Unit', 'Municipality', 'Province', 'PostalCode', 'PostalCode'])] \n",
            "La longueur de valid est : 2124\n",
            "\n",
            "un exemple de test : [('637 gerrard street east toronto ontario m4m 1y2', ['StreetNumber', 'StreetName', 'StreetName', 'StreetName', 'Municipality', 'Province', 'PostalCode', 'PostalCode']), ('number 097 273 oak stree sudbury ontario p3c 1n1', ['Unit', 'Unit', 'StreetNumber', 'StreetName', 'StreetName', 'Municipality', 'Province', 'PostalCode', 'PostalCode'])] \n",
            "La longueur de test est : 1157\n"
          ]
        }
      ]
    },
    {
      "cell_type": "code",
      "source": [],
      "metadata": {
        "id": "7DHKo97WsGru"
      },
      "execution_count": null,
      "outputs": []
    }
  ]
}